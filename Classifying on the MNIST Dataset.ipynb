{
 "cells": [
  {
   "cell_type": "code",
   "execution_count": 1,
   "id": "20ccd13c",
   "metadata": {},
   "outputs": [],
   "source": [
    "import numpy as np\n",
    "import tensorflow as tf\n",
    "import tensorflow_datasets as tfds\n"
   ]
  },
  {
   "cell_type": "code",
   "execution_count": 2,
   "id": "230ff340",
   "metadata": {},
   "outputs": [
    {
     "name": "stderr",
     "output_type": "stream",
     "text": [
      "WARNING:absl:Warning: Setting shuffle_files=True because split=TRAIN and shuffle_files=None. This behavior will be deprecated on 2019-08-06, at which point shuffle_files=False will be the default for all splits.\n"
     ]
    }
   ],
   "source": [
    "mnist_datasets, mnist_info = tfds.load(name= 'mnist' , with_info= True, as_supervised = True)"
   ]
  },
  {
   "cell_type": "code",
   "execution_count": 3,
   "id": "4a9f28d7",
   "metadata": {},
   "outputs": [],
   "source": [
    "mnist_train, mnist_test = mnist_datasets['train'], mnist_datasets['test']"
   ]
  },
  {
   "cell_type": "code",
   "execution_count": 4,
   "id": "9a25d73e",
   "metadata": {},
   "outputs": [],
   "source": [
    "#Splitting the dataset into training, testing and validation dataset\n",
    "\n",
    "num_validation_samples = 0.1* mnist_info.splits['train'].num_examples\n",
    "num_validation_samples = tf.cast(num_validation_samples, tf.int64)\n",
    "\n",
    "num_test_samples = 0.1* mnist_info.splits['test'].num_examples\n",
    "num_test_samples = tf.cast(num_test_samples, tf.int64)\n",
    "\n",
    "def scale(image, label):\n",
    "    image = tf.cast(image, tf.float32)\n",
    "    image /= 255.\n",
    "    return image, label\n",
    "\n",
    "#scaling the dataset\n",
    "\n",
    "scaled_train_and_validation_data = mnist_train.map(scale)\n",
    "scaled_test_data = mnist_test.map(scale)\n"
   ]
  },
  {
   "cell_type": "markdown",
   "id": "2f12401d",
   "metadata": {},
   "source": []
  },
  {
   "cell_type": "code",
   "execution_count": 5,
   "id": "920b05d4",
   "metadata": {},
   "outputs": [],
   "source": [
    "BUFFER_SIZE = 10000\n",
    "\n",
    "shuffled_train_and_validation_data = scaled_train_and_validation_data.shuffle(BUFFER_SIZE)\n",
    "\n",
    "validation_data = shuffled_train_and_validation_data.take(num_validation_samples)\n",
    "train_data = shuffled_train_and_validation_data.skip(num_validation_samples)\n",
    "\n",
    "BATCH_SIZE = 100\n",
    "\n",
    "train_data = train_data.batch(BATCH_SIZE)\n",
    "validation_data = validation_data.batch(num_validation_samples)\n",
    "test_data = scaled_test_data.batch(num_test_samples)\n",
    "\n",
    "validation_inputs, validation_targets = next(iter(validation_data))"
   ]
  },
  {
   "cell_type": "code",
   "execution_count": 6,
   "id": "49f04afa",
   "metadata": {},
   "outputs": [],
   "source": [
    "#model outline\n",
    "\n",
    "input_size = 784\n",
    "output_size = 10\n",
    "hidden_layer_size = 75\n",
    "\n",
    "model = tf.keras.Sequential([ \n",
    "                              tf.keras.layers.Flatten(input_shape=(28,28,1)),\n",
    "                              tf.keras.layers.Dense(hidden_layer_size, activation= 'relu'),\n",
    "                              tf.keras.layers.Dense(hidden_layer_size, activation= 'relu'),\n",
    "                              tf.keras.layers.Dense(output_size, activation= 'softmax')\n",
    "                            ])"
   ]
  },
  {
   "cell_type": "code",
   "execution_count": 7,
   "id": "f9d4cb7a",
   "metadata": {},
   "outputs": [],
   "source": [
    "model.compile(optimizer= 'adam', loss='sparse_categorical_crossentropy', metrics=['accuracy'])"
   ]
  },
  {
   "cell_type": "code",
   "execution_count": 8,
   "id": "54d19b1d",
   "metadata": {},
   "outputs": [
    {
     "name": "stdout",
     "output_type": "stream",
     "text": [
      "Epoch 1/5\n",
      "540/540 - 3s - loss: 0.3633 - accuracy: 0.8929 - val_loss: 0.1814 - val_accuracy: 0.9470\n",
      "Epoch 2/5\n",
      "540/540 - 2s - loss: 0.1569 - accuracy: 0.9533 - val_loss: 0.1341 - val_accuracy: 0.9593\n",
      "Epoch 3/5\n",
      "540/540 - 2s - loss: 0.1142 - accuracy: 0.9656 - val_loss: 0.1091 - val_accuracy: 0.9667\n",
      "Epoch 4/5\n",
      "540/540 - 2s - loss: 0.0908 - accuracy: 0.9731 - val_loss: 0.0822 - val_accuracy: 0.9763\n",
      "Epoch 5/5\n",
      "540/540 - 2s - loss: 0.0769 - accuracy: 0.9766 - val_loss: 0.0753 - val_accuracy: 0.9775\n"
     ]
    },
    {
     "data": {
      "text/plain": [
       "<tensorflow.python.keras.callbacks.History at 0x27ddeec9550>"
      ]
     },
     "execution_count": 8,
     "metadata": {},
     "output_type": "execute_result"
    }
   ],
   "source": [
    "#training the model\n",
    "\n",
    "Num_epochs = 5\n",
    "\n",
    "model.fit(train_data, epochs = Num_epochs, validation_data=(validation_inputs, validation_targets), verbose=2)"
   ]
  },
  {
   "cell_type": "code",
   "execution_count": 9,
   "id": "7e2d8443",
   "metadata": {},
   "outputs": [
    {
     "name": "stdout",
     "output_type": "stream",
     "text": [
      "10/10 [==============================] - 0s 36ms/step - loss: 0.0950 - accuracy: 0.9710\n"
     ]
    }
   ],
   "source": [
    "#testing the model\n",
    "\n",
    "test_loss, test_accuracy = model.evaluate(test_data)"
   ]
  },
  {
   "cell_type": "code",
   "execution_count": null,
   "id": "c6650df9",
   "metadata": {},
   "outputs": [],
   "source": []
  }
 ],
 "metadata": {
  "kernelspec": {
   "display_name": "Python 3",
   "language": "python",
   "name": "python3"
  },
  "language_info": {
   "codemirror_mode": {
    "name": "ipython",
    "version": 3
   },
   "file_extension": ".py",
   "mimetype": "text/x-python",
   "name": "python",
   "nbconvert_exporter": "python",
   "pygments_lexer": "ipython3",
   "version": "3.8.8"
  }
 },
 "nbformat": 4,
 "nbformat_minor": 5
}
